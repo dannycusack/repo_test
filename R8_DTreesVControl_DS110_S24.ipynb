{
  "cells": [
    {
      "cell_type": "markdown",
      "metadata": {
        "id": "view-in-github",
        "colab_type": "text"
      },
      "source": [
        "<a href=\"https://colab.research.google.com/github/dannycusack/repo_test/blob/main/R8_DTreesVControl_DS110_S24.ipynb\" target=\"_parent\"><img src=\"https://colab.research.google.com/assets/colab-badge.svg\" alt=\"Open In Colab\"/></a>"
      ]
    },
    {
      "cell_type": "markdown",
      "metadata": {
        "id": "6UvLaBeuonRV"
      },
      "source": [
        "# Decision Tree Decisions"
      ]
    },
    {
      "cell_type": "markdown",
      "metadata": {
        "id": "DSc2uj06onRW"
      },
      "source": [
        "A function that calculates entropy given a number of positive examples and a number of negative examples is provided below.  Use it to calculate the expected entropy for each decision tree feature described below."
      ]
    },
    {
      "cell_type": "code",
      "execution_count": 1,
      "metadata": {
        "id": "Tsa4rlx5onRW"
      },
      "outputs": [],
      "source": [
        "import math\n",
        "\n",
        "def entropy(pos,neg):\n",
        "    total = pos+neg\n",
        "    pos_prob = pos/total\n",
        "    neg_prob = neg/total\n",
        "    if pos_prob == 0 or neg_prob == 0:\n",
        "        return 0\n",
        "    return -pos_prob * math.log2(pos_prob) - neg_prob * math.log2(neg_prob)"
      ]
    },
    {
      "cell_type": "markdown",
      "metadata": {
        "id": "jnJaeYAXonRX"
      },
      "source": [
        "1. The feature splits the examples into two groups.  In one group, all 10 examples are positive examples.  In the other, the examples are evenly split between positive and negative examples, 5 and 5."
      ]
    },
    {
      "cell_type": "code",
      "execution_count": 2,
      "metadata": {
        "colab": {
          "base_uri": "https://localhost:8080/"
        },
        "id": "stxDCQUQonRX",
        "outputId": "ea498050-e878-41e6-8805-a8b5b5df0e34"
      },
      "outputs": [
        {
          "output_type": "stream",
          "name": "stdout",
          "text": [
            "0\n",
            "1.0\n"
          ]
        }
      ],
      "source": [
        "# TODO\n",
        "entropy1 = entropy(10, 0)\n",
        "entropy2 = entropy(5, 5)\n",
        "print(entropy_positive)\n",
        "print(entropy_even_split)"
      ]
    },
    {
      "cell_type": "markdown",
      "metadata": {
        "id": "BIlpvM_konRX"
      },
      "source": [
        "2. The feature splits the examples into two groups.  The first group has 8 positive examples and 2 negative examples.  The second group has 8 negative examples and 2 positive examples."
      ]
    },
    {
      "cell_type": "code",
      "execution_count": 3,
      "metadata": {
        "colab": {
          "base_uri": "https://localhost:8080/"
        },
        "id": "dzd9484EonRX",
        "outputId": "3fc6a0ff-7b97-4c31-f1a2-c0e7e30171f9"
      },
      "outputs": [
        {
          "output_type": "stream",
          "name": "stdout",
          "text": [
            "0.7219280948873623\n",
            "0.7219280948873623\n"
          ]
        }
      ],
      "source": [
        "# TODO\n",
        "entropy3 = entropy(8,2)\n",
        "entropy4 = entropy(2,8)\n",
        "print(entropy3)\n",
        "print(entropy4)"
      ]
    },
    {
      "cell_type": "markdown",
      "metadata": {
        "id": "4wER_19jonRX"
      },
      "source": [
        "3. The feature splits the examples into two groups.  The first group has 13 positive examples and 2 negative examples.  The second group has 4 negative examples and 1 positive example."
      ]
    },
    {
      "cell_type": "code",
      "execution_count": 4,
      "metadata": {
        "colab": {
          "base_uri": "https://localhost:8080/"
        },
        "id": "dhVWHLUgonRY",
        "outputId": "7c3e6bb7-569e-4034-a428-bcaa8dd06ff4"
      },
      "outputs": [
        {
          "output_type": "stream",
          "name": "stdout",
          "text": [
            "0.5665095065529053\n",
            "0.7219280948873623\n"
          ]
        }
      ],
      "source": [
        "# TODO\n",
        "entropy5 = entropy(13,2)\n",
        "entropy6 = entropy(1,4)\n",
        "print(entropy5)\n",
        "print(entropy6)"
      ]
    },
    {
      "cell_type": "markdown",
      "metadata": {
        "id": "ijnq0piDonRY"
      },
      "source": [
        "4. Rank these features (1-3) from best to worst in terms of how useful they are in a decision tree."
      ]
    },
    {
      "cell_type": "markdown",
      "metadata": {
        "id": "qdquxvxEonRY"
      },
      "source": [
        "**TODO**\n",
        "1 - first feature\n",
        "2 - third feature\n",
        "3 - second feature\n",
        "this is because there is more of a split in the first feature, making best for a decision tree, followed by the third feature, and then the second feature because there is no split at all, the entropy is the same"
      ]
    },
    {
      "cell_type": "markdown",
      "metadata": {
        "id": "HbrGfYBzonRY"
      },
      "source": [
        "# Regression"
      ]
    },
    {
      "cell_type": "markdown",
      "metadata": {
        "id": "N9dGTr8oonRY"
      },
      "source": [
        "The following list gives monthly gas prices (per gallon) in Massachusetts from the beginning of the pandemic (March 2020) to the end of 2022.  (Source: https://www.eia.gov/dnav/pet/hist/LeafHandler.ashx?n=PET&s=EMM_EPM0_PTE_SMA_DPG&f=M)  Fit a line to the data and plot it alongside the original data points.  (Note that you'll need to create your own x coordinates - try using np.linspace().)"
      ]
    },
    {
      "cell_type": "code",
      "execution_count": 7,
      "metadata": {
        "id": "0JveK9BConRY"
      },
      "outputs": [],
      "source": [
        "gas_prices = [2.385, 2.015, 2.000, 2.116, 2.178, 2.185, 2.184, 2.160,\n",
        "              2.142, 2.233, 2.381, 2.538, 2.792, 2.823, 2.943, 3.016,\n",
        "              3.088, 3.112, 3.162, 3.308, 3.479, 3.447, 3.409, 3.575,\n",
        "              4.310, 4.171, 4.634, 5.074, 4.728, 4.346, 3.826, 3.700, 3.912, 3.578]"
      ]
    },
    {
      "cell_type": "code",
      "execution_count": 13,
      "metadata": {
        "colab": {
          "base_uri": "https://localhost:8080/",
          "height": 430
        },
        "id": "yyKarQVsonRY",
        "outputId": "fcfd0442-e285-4f81-843f-6ca2ad4a82dc"
      },
      "outputs": [
        {
          "output_type": "display_data",
          "data": {
            "text/plain": [
              "<Figure size 640x480 with 1 Axes>"
            ],
            "image/png": "[encoded data removed]"
          },
          "metadata": {}
        }
      ],
      "source": [
        "# TODO\n",
        "import numpy as np\n",
        "import matplotlib.pyplot as plt\n",
        "months = np.linspace(0, len(gas_prices) - 1, len(gas_prices))\n",
        "coefficients = np.polyfit(months, gas_prices, 1)\n",
        "poly_line = np.poly1d(coefficients)\n",
        "plt.scatter(months, gas_prices,)\n",
        "plt.plot(months, poly_line(months), color='red')\n",
        "plt.show()"
      ]
    },
    {
      "cell_type": "markdown",
      "metadata": {
        "id": "j2F1VA4ConRZ"
      },
      "source": [
        "# Tool focus:  Version Control\n",
        "\n",
        "Have you ever worked on a project where you needed to pass around a file to modify?  You probably were a little discontent with the process.  Near the end, it may have been hard to determine whether FinalFinal.docx was really your most recent copy, or if there might be a FinalFinalFinal.docx that was more recent.  If you were collaborating, it may have been annoying to try to keep people from working on the same stuff simultaneously.  And if you wanted to go back to an earlier version, you could only hope you saved a separate version around the right time."
      ]
    },
    {
      "cell_type": "markdown",
      "metadata": {
        "id": "2k3RJKkQonRZ"
      },
      "source": [
        "*Version control*, and the git/Github software and site in particular, is the programmer's answer to all the aforementioned problems.\n",
        "\n",
        "* A central server keeps track of a series of versions of the code.  It's always clear what the most recent version is, and it's relatively easy to go back to an earlier version.  If code becomes buggy, this helps determine when the bug was introduced.\n",
        "\n",
        "* When people get copies to work on locally, on their own machines, they create their own individual histories locally.  People are free to ignore their collaborators' work until they merge their changes back into the central repository.\n",
        "\n",
        "* When it's time to merge local changes into the central repository, the code is scanned for differences, and any discrepancies resulting from others' changes are highlighted and resolved."
      ]
    },
    {
      "cell_type": "markdown",
      "metadata": {
        "id": "5iyD1bJdonRZ"
      },
      "source": [
        "If you become familiar with version control now, it may especially help with the final project, where you will have multiple individuals trying to work with the same files at the same time."
      ]
    },
    {
      "cell_type": "markdown",
      "metadata": {
        "id": "KGYyNRpJonRZ"
      },
      "source": [
        "* If you do not already have a github account, go create one now at:  https://github.com/\n",
        "* Once you've created an account, create a new repository.  If you don't see the big green button immediately, you can click on yourself, then on \"Repositories,\" then \"New\" in the upper right.\n",
        "* Name your repository something arbitrary, like \"repo_test.\"  Also make it private (this is what you'd want to do for homework and other sensitive stuff).  Make a README file (because it also sets up a \"branch\" that you can commit to).  The other options don't really matter right now.\n",
        "* Assuming you are doing this recitation in Colab, go to File->Save a copy in GitHub.  Choose your notebook and save it to GitHub!  (You might also change the commit message - this is a good habit to get into so that you can find particular versions later.)\n",
        "* Check the repo on the GitHub website (under your username->Repositories), and verify that your code is now on the web (privately, assuming you chose \"private\")."
      ]
    },
    {
      "cell_type": "markdown",
      "metadata": {
        "id": "gPTVvwEoonRZ"
      },
      "source": [
        "* Now let's try going back to an earlier version.  Fill the following code box with junk, and File->Save a copy in GitHub."
      ]
    },
    {
      "cell_type": "code",
      "execution_count": null,
      "metadata": {
        "id": "YngVj8mRonRZ"
      },
      "outputs": [],
      "source": [
        "junk"
      ]
    },
    {
      "cell_type": "markdown",
      "metadata": {
        "id": "0C5xuouyonRZ"
      },
      "source": [
        "* You can now see both versions of the notebook in the GitHub repository history.  (Repositories->your_repo_name->your_filename->History, with the clock icon.)\n",
        "* To open the most recent version, go to \"File->Open Notebook\" in Colab and choose the GitHub tab at the top.  Choose your repo and open it.\n",
        "* You can also access the versions in your history from Colab.  Go to File->Revision History.  (Notice that the right-hand side displays differences between the files.)  The dots next to each item in the history have the option of Open in Colab.  Try restoring an old version now."
      ]
    },
    {
      "cell_type": "markdown",
      "metadata": {
        "id": "5wA120AWonRZ"
      },
      "source": [
        "* Last, try collaborating with someone on this file.  Within your repo on GitHub, go to Settings->Collaborators->Add people.  Add someone in your section who is willing to share their username with you.  \"Sign\" each others' work in the last text box, and show this along with your completed code to the TA to finish this section."
      ]
    },
    {
      "cell_type": "markdown",
      "metadata": {
        "id": "FxJQMiZgonRZ"
      },
      "source": [
        "**Your collaborator's signature here**"
      ]
    },
    {
      "cell_type": "code",
      "execution_count": null,
      "metadata": {
        "id": "_04x7_e4onRZ"
      },
      "outputs": [],
      "source": []
    }
  ],
  "metadata": {
    "colab": {
      "provenance": [],
      "include_colab_link": true
    },
    "kernelspec": {
      "display_name": "Python 3",
      "language": "python",
      "name": "python3"
    },
    "language_info": {
      "codemirror_mode": {
        "name": "ipython",
        "version": 3
      },
      "file_extension": ".py",
      "mimetype": "text/x-python",
      "name": "python",
      "nbconvert_exporter": "python",
      "pygments_lexer": "ipython3",
      "version": "3.8.8"
    }
  },
  "nbformat": 4,
  "nbformat_minor": 0
}